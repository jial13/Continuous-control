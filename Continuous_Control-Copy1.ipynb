{
 "cells": [
  {
   "cell_type": "markdown",
   "metadata": {},
   "source": [
    "# Continuous Control\n",
    "\n",
    "---\n",
    "\n",
    "In this notebook, you will learn how to use the Unity ML-Agents environment for the second project of the [Deep Reinforcement Learning Nanodegree](https://www.udacity.com/course/deep-reinforcement-learning-nanodegree--nd893) program.\n",
    "\n",
    "### 1. Start the Environment\n",
    "\n",
    "We begin by importing the necessary packages.  If the code cell below returns an error, please revisit the project instructions to double-check that you have installed [Unity ML-Agents](https://github.com/Unity-Technologies/ml-agents/blob/master/docs/Installation.md) and [NumPy](http://www.numpy.org/)."
   ]
  },
  {
   "cell_type": "code",
   "execution_count": 1,
   "metadata": {},
   "outputs": [],
   "source": [
    "from unityagents import UnityEnvironment\n",
    "import numpy as np"
   ]
  },
  {
   "cell_type": "markdown",
   "metadata": {},
   "source": [
    "Next, we will start the environment!  **_Before running the code cell below_**, change the `file_name` parameter to match the location of the Unity environment that you downloaded.\n",
    "\n",
    "- **Mac**: `\"path/to/Reacher.app\"`\n",
    "- **Windows** (x86): `\"path/to/Reacher_Windows_x86/Reacher.exe\"`\n",
    "- **Windows** (x86_64): `\"path/to/Reacher_Windows_x86_64/Reacher.exe\"`\n",
    "- **Linux** (x86): `\"path/to/Reacher_Linux/Reacher.x86\"`\n",
    "- **Linux** (x86_64): `\"path/to/Reacher_Linux/Reacher.x86_64\"`\n",
    "- **Linux** (x86, headless): `\"path/to/Reacher_Linux_NoVis/Reacher.x86\"`\n",
    "- **Linux** (x86_64, headless): `\"path/to/Reacher_Linux_NoVis/Reacher.x86_64\"`\n",
    "\n",
    "For instance, if you are using a Mac, then you downloaded `Reacher.app`.  If this file is in the same folder as the notebook, then the line below should appear as follows:\n",
    "```\n",
    "env = UnityEnvironment(file_name=\"Reacher.app\")\n",
    "```"
   ]
  },
  {
   "cell_type": "code",
   "execution_count": 2,
   "metadata": {},
   "outputs": [
    {
     "name": "stderr",
     "output_type": "stream",
     "text": [
      "INFO:unityagents:\n",
      "'Academy' started successfully!\n",
      "Unity Academy name: Academy\n",
      "        Number of Brains: 1\n",
      "        Number of External Brains : 1\n",
      "        Lesson number : 0\n",
      "        Reset Parameters :\n",
      "\t\tgoal_speed -> 1.0\n",
      "\t\tgoal_size -> 5.0\n",
      "Unity brain name: ReacherBrain\n",
      "        Number of Visual Observations (per agent): 0\n",
      "        Vector Observation space type: continuous\n",
      "        Vector Observation space size (per agent): 33\n",
      "        Number of stacked Vector Observation: 1\n",
      "        Vector Action space type: continuous\n",
      "        Vector Action space size (per agent): 4\n",
      "        Vector Action descriptions: , , , \n"
     ]
    }
   ],
   "source": [
    "env = UnityEnvironment(file_name='Reacher.exe', worker_id=4, seed=1)"
   ]
  },
  {
   "cell_type": "markdown",
   "metadata": {},
   "source": [
    "Environments contain **_brains_** which are responsible for deciding the actions of their associated agents. Here we check for the first brain available, and set it as the default brain we will be controlling from Python."
   ]
  },
  {
   "cell_type": "code",
   "execution_count": 3,
   "metadata": {},
   "outputs": [],
   "source": [
    "# get the default brain\n",
    "brain_name = env.brain_names[0]\n",
    "brain = env.brains[brain_name]"
   ]
  },
  {
   "cell_type": "markdown",
   "metadata": {},
   "source": [
    "### 2. Examine the State and Action Spaces\n",
    "\n",
    "In this environment, a double-jointed arm can move to target locations. A reward of `+0.1` is provided for each step that the agent's hand is in the goal location. Thus, the goal of your agent is to maintain its position at the target location for as many time steps as possible.\n",
    "\n",
    "The observation space consists of `33` variables corresponding to position, rotation, velocity, and angular velocities of the arm.  Each action is a vector with four numbers, corresponding to torque applicable to two joints.  Every entry in the action vector must be a number between `-1` and `1`.\n",
    "\n",
    "Run the code cell below to print some information about the environment."
   ]
  },
  {
   "cell_type": "code",
   "execution_count": 4,
   "metadata": {},
   "outputs": [
    {
     "name": "stdout",
     "output_type": "stream",
     "text": [
      "Number of agents: 1\n",
      "Size of each action: 4\n",
      "There are 1 agents. Each observes a state with length: 33\n",
      "The state for the first agent looks like: [ 0.00000000e+00 -4.00000000e+00  0.00000000e+00  1.00000000e+00\n",
      " -0.00000000e+00 -0.00000000e+00 -4.37113883e-08  0.00000000e+00\n",
      "  0.00000000e+00  0.00000000e+00  0.00000000e+00  0.00000000e+00\n",
      "  0.00000000e+00  0.00000000e+00 -1.00000000e+01  0.00000000e+00\n",
      "  1.00000000e+00 -0.00000000e+00 -0.00000000e+00 -4.37113883e-08\n",
      "  0.00000000e+00  0.00000000e+00  0.00000000e+00  0.00000000e+00\n",
      "  0.00000000e+00  0.00000000e+00 -7.98051262e+00 -1.00000000e+00\n",
      "  5.58052540e-01  0.00000000e+00  1.00000000e+00  0.00000000e+00\n",
      " -5.48525572e-01]\n"
     ]
    }
   ],
   "source": [
    "# reset the environment\n",
    "env_info = env.reset(train_mode=True)[brain_name]\n",
    "\n",
    "# number of agents\n",
    "num_agents = len(env_info.agents)\n",
    "print('Number of agents:', num_agents)\n",
    "\n",
    "# size of each action\n",
    "action_size = brain.vector_action_space_size\n",
    "print('Size of each action:', action_size)\n",
    "\n",
    "# examine the state space \n",
    "states = env_info.vector_observations\n",
    "state_size = states.shape[1]\n",
    "print('There are {} agents. Each observes a state with length: {}'.format(states.shape[0], state_size))\n",
    "print('The state for the first agent looks like:', states[0])"
   ]
  },
  {
   "cell_type": "markdown",
   "metadata": {},
   "source": [
    "### 3. Take Random Actions in the Environment\n",
    "\n",
    "In the next code cell, you will learn how to use the Python API to control the agent and receive feedback from the environment.\n",
    "\n",
    "Once this cell is executed, you will watch the agent's performance, if it selects an action at random with each time step.  A window should pop up that allows you to observe the agent, as it moves through the environment.  \n",
    "\n",
    "Of course, as part of the project, you'll have to change the code so that the agent is able to use its experience to gradually choose better actions when interacting with the environment!"
   ]
  },
  {
   "cell_type": "code",
   "execution_count": 5,
   "metadata": {},
   "outputs": [],
   "source": [
    "#env_info = env.reset(train_mode=False)[brain_name]     # reset the environment    \n",
    "#states = env_info.vector_observations                  # get the current state (for each agent)\n",
    "#scores = np.zeros(num_agents)                          # initialize the score (for each agent)\n",
    "#while True:\n",
    "    #actions = np.random.randn(num_agents, action_size) # select an action (for each agent)\n",
    "    #actions = np.clip(actions, -1, 1)                  # all actions between -1 and 1\n",
    "    #env_info = env.step(actions)[brain_name]           # send all actions to tne environment\n",
    "    #next_states = env_info.vector_observations         # get next state (for each agent)\n",
    "    #rewards = env_info.rewards                         # get reward (for each agent)\n",
    "    #dones = env_info.local_done                        # see if episode finished\n",
    "    #scores += env_info.rewards                         # update the score (for each agent)\n",
    "    #states = next_states                               # roll over states to next time step\n",
    "    #if np.any(dones):                                  # exit loop if episode finished\n",
    "        #break\n",
    "#print('Total score (averaged over agents) this episode: {}'.format(np.mean(scores)))"
   ]
  },
  {
   "cell_type": "markdown",
   "metadata": {},
   "source": [
    "When finished, you can close the environment."
   ]
  },
  {
   "cell_type": "code",
   "execution_count": 6,
   "metadata": {},
   "outputs": [],
   "source": [
    "#env.close()"
   ]
  },
  {
   "cell_type": "markdown",
   "metadata": {},
   "source": [
    "### 4. It's Your Turn!\n",
    "\n",
    "Now it's your turn to train your own agent to solve the environment!  When training the environment, set `train_mode=True`, so that the line for resetting the environment looks like the following:\n",
    "```python\n",
    "env_info = env.reset(train_mode=True)[brain_name]\n",
    "```"
   ]
  },
  {
   "cell_type": "code",
   "execution_count": 9,
   "metadata": {},
   "outputs": [],
   "source": [
    "from collections import deque\n",
    "from ddpg_agent import Agent\n",
    "import torch\n",
    "import time\n",
    "\n",
    "agent = Agent(state_size=state_size, action_size=action_size, random_seed=2)\n",
    "\n",
    "\n",
    "\n",
    "\n",
    "def ddpg(n_episodes=500, max_t=10000, print_every=1):\n",
    "    \"\"\"DDQN Algorithm.\n",
    "    \n",
    "    Params\n",
    "    ======\n",
    "        n_episodes (int): maximum number of training episodes\n",
    "        max_t (int): maximum number of timesteps per episode\n",
    "        print_every (int): frequency of printing information throughout iteration \"\"\"\n",
    "    \n",
    "    scores = []\n",
    "    scores_deque = deque(maxlen=print_every)\n",
    "    \n",
    "    for i_episode in range(1, n_episodes+1):\n",
    "        env_info = env.reset(train_mode=True)[brain_name]\n",
    "        agent.reset()\n",
    "        state = env_info.vector_observations[0]\n",
    "        score = 0\n",
    "        \n",
    "        for t in range(max_t):\n",
    "            action = agent.act(state)\n",
    "       \n",
    "            env_info = env.step(action)[brain_name]\n",
    "            next_state = env_info.vector_observations[0]\n",
    "            reward = env_info.rewards[0]\n",
    "            done = env_info.local_done[0]\n",
    "            agent.step(state, action, reward, next_state, done)\n",
    "            score += reward\n",
    "            state = next_state\n",
    "            if done:\n",
    "                break\n",
    "        \n",
    "        scores_deque.append(score)\n",
    "        scores.append(score)\n",
    "\n",
    "        print('\\rEpisode {}\\tAverage Score: {:.2f}'.format(i_episode, np.mean(scores_deque)), end=\"\")\n",
    "        \n",
    "        if i_episode % print_every == 0:\n",
    "            print('\\rEpisode {}\\tAverage Score: {:.2f}'.format(i_episode, np.mean(scores_deque)))\n",
    "            torch.save(agent.actor_local.state_dict(), 'checkpoint_actor.pth')\n",
    "            torch.save(agent.critic_local.state_dict(), 'checkpoint_critic.pth')\n",
    "        \n",
    "        if np.mean(scores_deque)>=30.0:\n",
    "            print('\\nEnvironment solved in {:d} episodes!\\tAverage Score: {:.2f}'.format(i_episode, np.mean(scores_deque)))\n",
    "            torch.save(agent.actor_local.state_dict(), 'checkpoint_actor.pth')\n",
    "            torch.save(agent.critic_local.state_dict(), 'checkpoint_critic.pth')\n",
    "            break\n",
    "            \n",
    "    return scores\n"
   ]
  },
  {
   "cell_type": "code",
   "execution_count": 10,
   "metadata": {},
   "outputs": [
    {
     "name": "stderr",
     "output_type": "stream",
     "text": [
      "D:\\Programming\\Anaconda\\envs\\ML\\lib\\site-packages\\torch\\nn\\functional.py:1320: UserWarning: nn.functional.tanh is deprecated. Use torch.tanh instead.\n",
      "  warnings.warn(\"nn.functional.tanh is deprecated. Use torch.tanh instead.\")\n"
     ]
    },
    {
     "name": "stdout",
     "output_type": "stream",
     "text": [
      "Episode 1\tAverage Score: 0.67\n",
      "Episode 2\tAverage Score: 0.68\n",
      "Episode 3\tAverage Score: 1.51\n",
      "Episode 4\tAverage Score: 0.58\n",
      "Episode 5\tAverage Score: 0.32\n",
      "Episode 6\tAverage Score: 0.90\n",
      "Episode 7\tAverage Score: 1.14\n",
      "Episode 8\tAverage Score: 0.81\n",
      "Episode 9\tAverage Score: 1.98\n",
      "Episode 10\tAverage Score: 1.55\n",
      "Episode 11\tAverage Score: 0.00\n",
      "Episode 12\tAverage Score: 2.77\n",
      "Episode 13\tAverage Score: 2.27\n",
      "Episode 14\tAverage Score: 1.85\n",
      "Episode 15\tAverage Score: 2.61\n",
      "Episode 16\tAverage Score: 2.58\n",
      "Episode 17\tAverage Score: 0.87\n",
      "Episode 18\tAverage Score: 0.93\n",
      "Episode 19\tAverage Score: 1.55\n",
      "Episode 20\tAverage Score: 1.03\n",
      "Episode 21\tAverage Score: 2.70\n",
      "Episode 22\tAverage Score: 1.83\n",
      "Episode 23\tAverage Score: 2.01\n",
      "Episode 24\tAverage Score: 3.43\n",
      "Episode 25\tAverage Score: 3.40\n",
      "Episode 26\tAverage Score: 1.83\n",
      "Episode 27\tAverage Score: 2.49\n",
      "Episode 28\tAverage Score: 3.62\n",
      "Episode 29\tAverage Score: 2.03\n",
      "Episode 30\tAverage Score: 1.87\n",
      "Episode 31\tAverage Score: 1.55\n",
      "Episode 32\tAverage Score: 3.70\n",
      "Episode 33\tAverage Score: 4.17\n",
      "Episode 34\tAverage Score: 6.19\n",
      "Episode 35\tAverage Score: 3.32\n",
      "Episode 36\tAverage Score: 3.27\n",
      "Episode 37\tAverage Score: 5.15\n",
      "Episode 38\tAverage Score: 4.99\n",
      "Episode 39\tAverage Score: 1.36\n",
      "Episode 40\tAverage Score: 3.37\n",
      "Episode 41\tAverage Score: 3.37\n",
      "Episode 42\tAverage Score: 2.34\n",
      "Episode 43\tAverage Score: 2.95\n",
      "Episode 44\tAverage Score: 4.52\n",
      "Episode 45\tAverage Score: 3.83\n",
      "Episode 46\tAverage Score: 4.47\n",
      "Episode 47\tAverage Score: 5.00\n",
      "Episode 48\tAverage Score: 3.17\n",
      "Episode 49\tAverage Score: 6.46\n",
      "Episode 50\tAverage Score: 3.98\n",
      "Episode 51\tAverage Score: 7.10\n",
      "Episode 52\tAverage Score: 4.70\n",
      "Episode 53\tAverage Score: 8.01\n",
      "Episode 54\tAverage Score: 6.99\n",
      "Episode 55\tAverage Score: 3.81\n",
      "Episode 56\tAverage Score: 5.54\n",
      "Episode 57\tAverage Score: 7.42\n",
      "Episode 58\tAverage Score: 7.88\n",
      "Episode 59\tAverage Score: 4.14\n",
      "Episode 60\tAverage Score: 7.48\n",
      "Episode 61\tAverage Score: 5.70\n",
      "Episode 62\tAverage Score: 5.76\n",
      "Episode 63\tAverage Score: 5.50\n",
      "Episode 64\tAverage Score: 7.16\n",
      "Episode 65\tAverage Score: 4.72\n",
      "Episode 66\tAverage Score: 5.64\n",
      "Episode 67\tAverage Score: 7.74\n",
      "Episode 68\tAverage Score: 6.38\n",
      "Episode 69\tAverage Score: 10.82\n",
      "Episode 70\tAverage Score: 7.35\n",
      "Episode 71\tAverage Score: 6.68\n",
      "Episode 72\tAverage Score: 5.58\n",
      "Episode 73\tAverage Score: 6.09\n",
      "Episode 74\tAverage Score: 2.98\n",
      "Episode 75\tAverage Score: 7.24\n",
      "Episode 76\tAverage Score: 5.35\n",
      "Episode 77\tAverage Score: 6.45\n",
      "Episode 78\tAverage Score: 10.12\n",
      "Episode 79\tAverage Score: 7.30\n",
      "Episode 80\tAverage Score: 7.88\n",
      "Episode 81\tAverage Score: 9.49\n",
      "Episode 82\tAverage Score: 7.34\n",
      "Episode 83\tAverage Score: 8.84\n",
      "Episode 84\tAverage Score: 11.52\n",
      "Episode 85\tAverage Score: 7.29\n",
      "Episode 86\tAverage Score: 10.91\n",
      "Episode 87\tAverage Score: 11.88\n",
      "Episode 88\tAverage Score: 13.60\n",
      "Episode 89\tAverage Score: 11.82\n",
      "Episode 90\tAverage Score: 12.74\n",
      "Episode 91\tAverage Score: 11.12\n",
      "Episode 92\tAverage Score: 5.18\n",
      "Episode 93\tAverage Score: 18.39\n",
      "Episode 94\tAverage Score: 10.07\n",
      "Episode 95\tAverage Score: 14.68\n",
      "Episode 96\tAverage Score: 12.92\n",
      "Episode 97\tAverage Score: 10.30\n",
      "Episode 98\tAverage Score: 30.00\n",
      "Episode 99\tAverage Score: 9.69\n",
      "Episode 100\tAverage Score: 17.16\n",
      "Episode 101\tAverage Score: 21.98\n",
      "Episode 102\tAverage Score: 14.67\n",
      "Episode 103\tAverage Score: 16.22\n",
      "Episode 104\tAverage Score: 17.12\n",
      "Episode 105\tAverage Score: 11.00\n",
      "Episode 106\tAverage Score: 11.25\n",
      "Episode 107\tAverage Score: 25.80\n",
      "Episode 108\tAverage Score: 9.60\n",
      "Episode 109\tAverage Score: 11.75\n",
      "Episode 110\tAverage Score: 22.45\n",
      "Episode 111\tAverage Score: 18.32\n",
      "Episode 112\tAverage Score: 18.79\n",
      "Episode 113\tAverage Score: 28.66\n",
      "Episode 114\tAverage Score: 26.12\n",
      "Episode 115\tAverage Score: 26.41\n",
      "Episode 116\tAverage Score: 27.96\n",
      "Episode 117\tAverage Score: 11.13\n",
      "Episode 118\tAverage Score: 16.67\n",
      "Episode 119\tAverage Score: 32.51\n",
      "\n",
      "Environment solved in 119 episodes!\tAverage Score: 32.51\n"
     ]
    },
    {
     "data": {
      "image/png": "[encoded data removed]",
      "text/plain": [
       "<Figure size 1440x504 with 1 Axes>"
      ]
     },
     "metadata": {
      "needs_background": "light"
     },
     "output_type": "display_data"
    }
   ],
   "source": [
    "scores = ddpg()\n",
    "\n",
    "import matplotlib.pyplot as plt\n",
    "\n",
    "fig = plt.figure(figsize=(20, 7))\n",
    "ax = fig.add_subplot(111)\n",
    "plt.plot(np.arange(len(scores)), scores)\n",
    "plt.ylabel('Score')\n",
    "plt.xlabel('Episode #')\n",
    "plt.show()"
   ]
  },
  {
   "cell_type": "code",
   "execution_count": null,
   "metadata": {},
   "outputs": [],
   "source": [
    "env.close()"
   ]
  },
  {
   "cell_type": "code",
   "execution_count": null,
   "metadata": {},
   "outputs": [],
   "source": []
  }
 ],
 "metadata": {
  "kernelspec": {
   "display_name": "Python [conda env:ML]",
   "language": "python",
   "name": "conda-env-ML-py"
  },
  "language_info": {
   "codemirror_mode": {
    "name": "ipython",
    "version": 3
   },
   "file_extension": ".py",
   "mimetype": "text/x-python",
   "name": "python",
   "nbconvert_exporter": "python",
   "pygments_lexer": "ipython3",
   "version": "3.6.8"
  }
 },
 "nbformat": 4,
 "nbformat_minor": 2
}
